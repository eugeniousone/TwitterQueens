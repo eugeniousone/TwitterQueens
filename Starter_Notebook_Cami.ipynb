{
 "cells": [
  {
   "cell_type": "code",
   "execution_count": 58,
   "metadata": {},
   "outputs": [],
   "source": [
    "# HYPOTHESYS\n",
    "# We expect that mentions of Trumps will have 50/50 positive and negative\n",
    "# We expect more positive tweets volume from republican states\n",
    "# We expect Trump's tweets to be majority negative\n",
    "# What are the main keywords Trump uses and what are the sentiment about those subjects"
   ]
  },
  {
   "cell_type": "code",
   "execution_count": 85,
   "metadata": {},
   "outputs": [],
   "source": [
    "# import dependencies \n",
    "import os\n",
    "import pandas as pd\n",
    "from matplotlib import pyplot as plt\n",
    "import time\n",
    "import csv\n",
    "import json\n",
    "import requests\n",
    "from config import api_key, api_secret_key\n",
    "import gmaps\n",
    "import re \n",
    "import twitter\n",
    "import tweepy \n",
    "from tweepy import Stream\n",
    "from tweepy import OAuthHandler\n",
    "from tweepy.streaming import StreamListener\n",
    "from textblob import TextBlob \n",
    "import base64\n",
    "\n",
    "# Access maps with unique API key\n",
    "# gmaps.configure(api_key=gkey)\n",
    "\n",
    "# url for API\n",
    "\n",
    "# url = 'https://api.twitter.com/1.1/search/tweets.json'\n",
    "\n",
    "# # Store a the twitter handle mentions we will use\n",
    "\n",
    "# handle = '@realDonaldTrump'\n",
    "\n",
    "# Filter the request for  \"geo_enabled\": true, language to be only english (lang=en), restrict by region = United Sates\n",
    "# Reference the url to request the api data, but not going over the \n",
    "# request limit per second (max_number_of_requests = 180 per 15 min)\n",
    "# https://towardsdatascience.com/creating-the-twitter-sentiment-analysis-program-in-python-with-naive-bayes-classification-672e5589a7ed\n",
    "\n",
    "# convert to JSON object \n",
    "\n",
    "# Create a dictionary with the data we need:\n",
    "\n",
    "# Date(created_at), Location (geocode), , Tweet (text), (user_mentions),  (hashtags),\n",
    "#(symbols), user id (\"user\": id, id_string)\n",
    "# followers volume (followers_count), friends count (friends_count), (favourites_count)\n",
    "# (retweet_count), (retweeted), (possibly_sensitive), \n",
    "    \n",
    "        \n",
    "# print the request to get an idea of the set\n",
    "\n",
    "# Reference the url for the sentiment analysis code 'https://www.geeksforgeeks.org/twitter-sentiment-analysis-using-python/''\n",
    "\n"
   ]
  },
  {
   "cell_type": "code",
   "execution_count": 86,
   "metadata": {},
   "outputs": [
    {
     "name": "stdout",
     "output_type": "stream",
     "text": [
      "RT @CGIPerth: Acting Consul General &amp; Consul(Commercial) Mr Ray participated in round table discussion on “Indian General election and what…\n",
      "\n",
      "RT @DanielFooksArt: If you don't sign this then you are personally responsible for Johnson and Farage winning the next general election in…\n",
      "\n"
     ]
    }
   ],
   "source": [
    "# Authenticate and Make the first API request\n",
    "\n",
    "client_key = api_key\n",
    "client_secret = api_secret_key\n",
    "\n",
    "key_secret = '{}:{}'.format(client_key, client_secret).encode('ascii')\n",
    "b64_encoded_key = base64.b64encode(key_secret)\n",
    "b64_encoded_key = b64_encoded_key.decode('ascii')\n",
    "\n",
    "base_url = 'https://api.twitter.com/'\n",
    "auth_url = '{}oauth2/token'.format(base_url)\n",
    "\n",
    "auth_headers = {\n",
    "    'Authorization': 'Basic {}'.format(b64_encoded_key),\n",
    "    'Content-Type': 'application/x-www-form-urlencoded;charset=UTF-8'\n",
    "}\n",
    "\n",
    "auth_data = {\n",
    "    'grant_type': 'client_credentials'\n",
    "}\n",
    "\n",
    "auth_resp = requests.post(auth_url, headers=auth_headers, data=auth_data)\n",
    "\n",
    "auth_resp.json().keys()\n",
    "\n",
    "access_token = auth_resp.json()['access_token']\n",
    "\n",
    "search_headers = {\n",
    "    'Authorization': 'Bearer {}'.format(access_token)    \n",
    "}\n",
    "\n",
    "search_params = {\n",
    "    'q': 'General Election',\n",
    "    'result_type': 'recent',\n",
    "    'count': 2\n",
    "}\n",
    "\n",
    "search_url = '{}1.1/search/tweets.json'.format(base_url)\n",
    "\n",
    "search_resp = requests.get(search_url, headers=search_headers, params=search_params)\n",
    "\n",
    "tweet_data = search_resp.json()\n",
    "\n",
    "for x in tweet_data['statuses']:\n",
    "    print(x['text'] + '\\n')"
   ]
  },
  {
   "cell_type": "code",
   "execution_count": 77,
   "metadata": {},
   "outputs": [],
   "source": []
  },
  {
   "cell_type": "code",
   "execution_count": null,
   "metadata": {},
   "outputs": [],
   "source": []
  },
  {
   "cell_type": "code",
   "execution_count": null,
   "metadata": {},
   "outputs": [],
   "source": []
  },
  {
   "cell_type": "code",
   "execution_count": 80,
   "metadata": {},
   "outputs": [],
   "source": []
  },
  {
   "cell_type": "code",
   "execution_count": null,
   "metadata": {},
   "outputs": [],
   "source": []
  },
  {
   "cell_type": "code",
   "execution_count": null,
   "metadata": {},
   "outputs": [],
   "source": []
  },
  {
   "cell_type": "code",
   "execution_count": null,
   "metadata": {},
   "outputs": [],
   "source": []
  },
  {
   "cell_type": "code",
   "execution_count": null,
   "metadata": {},
   "outputs": [],
   "source": []
  },
  {
   "cell_type": "code",
   "execution_count": null,
   "metadata": {},
   "outputs": [],
   "source": []
  },
  {
   "cell_type": "code",
   "execution_count": 67,
   "metadata": {},
   "outputs": [],
   "source": [
    "# DATA CLEANING"
   ]
  },
  {
   "cell_type": "code",
   "execution_count": 68,
   "metadata": {},
   "outputs": [],
   "source": [
    "# VISUALIZATION REQUEIREMENTS - 6-8\n",
    "\n",
    "# What is the distribution of sentiment (positive/negative/neutral) per mention of handle?\n",
    "# Piechart/bar chart per handle mention\n",
    "\n",
    "# How many (positive/negative/neutral) retweets?\n",
    "\n",
    "# Distribution of sentiment by state and comparison to state being democrat/republican\n",
    "# Gmaps with pins\n",
    "\n",
    "\n",
    "# Scatter plot - size of bubles is number of followers\n",
    "\n",
    "# Most commom used words by Trump - top keywords\n",
    "# Use of exclamation points\n",
    "# Use of Caps lock?\n",
    "# Emoji symbols he uses\n",
    "# Sentiment analysis of Trump Tweets\n",
    "# Sentiment analysis of his tweets for top 5 keyqords he uses (sort and select top 5 based on total count)\n",
    "\n",
    "\n",
    "# Scatter plot of Trumps tweets colored by sentiment\n",
    "\n",
    "# Save png versions of our visuals\n"
   ]
  },
  {
   "cell_type": "code",
   "execution_count": 69,
   "metadata": {},
   "outputs": [],
   "source": [
    "# OBSERVATIONS/TRENDS\n",
    "\n",
    "# Implications - can we predict if he will be elected or not"
   ]
  }
 ],
 "metadata": {
  "kernelspec": {
   "display_name": "Python 3",
   "language": "python",
   "name": "python3"
  },
  "language_info": {
   "codemirror_mode": {
    "name": "ipython",
    "version": 3
   },
   "file_extension": ".py",
   "mimetype": "text/x-python",
   "name": "python",
   "nbconvert_exporter": "python",
   "pygments_lexer": "ipython3",
   "version": "3.7.3"
  }
 },
 "nbformat": 4,
 "nbformat_minor": 2
}
