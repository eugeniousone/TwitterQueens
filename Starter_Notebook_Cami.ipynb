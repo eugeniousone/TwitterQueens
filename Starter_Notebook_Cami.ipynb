{
 "cells": [
  {
   "cell_type": "code",
   "execution_count": null,
   "metadata": {},
   "outputs": [],
   "source": [
    "# import dependencies \n",
    "import os\n",
    "import pandas as pd\n",
    "import matplotlib.pyplots as plt\n",
    "import time\n",
    "import csv\n",
    "import json\n",
    "import requests\n",
    "from config import api_key\n",
    "import gmaps\n",
    "from config import gkey\n",
    "import re \n",
    "import tweepy \n",
    "from tweepy import OAuthHandler \n",
    "from textblob import TextBlob \n",
    "\n",
    "# url for API\n",
    "\n",
    "url = \n",
    "\n",
    "# Store a the twitter handle mentions we will use\n",
    "\n",
    "# Make the API request\n",
    "# Reference the url to request the api data, but not going over the \n",
    "# request limit per second (max_number_of_requests = 180 per 15 min)\n",
    "# https://towardsdatascience.com/creating-the-twitter-sentiment-analysis-program-in-python-with-naive-bayes-classification-672e5589a7ed\n",
    "\n",
    "# convert to JSON object \n",
    "\n",
    "# convert csv and create a data frame\n",
    "\n",
    "\n",
    "# print the request to get an idea of the set\n",
    "\n",
    "# Reference the url for the sentiment analysis code 'https://www.geeksforgeeks.org/twitter-sentiment-analysis-using-python/''\n",
    "\n"
   ]
  }
 ],
 "metadata": {
  "kernelspec": {
   "display_name": "Python 3",
   "language": "python",
   "name": "python3"
  },
  "language_info": {
   "codemirror_mode": {
    "name": "ipython",
    "version": 3
   },
   "file_extension": ".py",
   "mimetype": "text/x-python",
   "name": "python",
   "nbconvert_exporter": "python",
   "pygments_lexer": "ipython3",
   "version": "3.7.3"
  }
 },
 "nbformat": 4,
 "nbformat_minor": 2
}
