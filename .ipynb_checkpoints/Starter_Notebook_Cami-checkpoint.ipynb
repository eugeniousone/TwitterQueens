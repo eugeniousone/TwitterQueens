{
 "cells": [
  {
   "cell_type": "code",
   "execution_count": 8,
   "metadata": {},
   "outputs": [
    {
     "ename": "ModuleNotFoundError",
     "evalue": "No module named 'config'",
     "output_type": "error",
     "traceback": [
      "\u001b[0;31m---------------------------------------------------------------------------\u001b[0m",
      "\u001b[0;31mModuleNotFoundError\u001b[0m                       Traceback (most recent call last)",
      "\u001b[0;32m<ipython-input-8-073eed62e147>\u001b[0m in \u001b[0;36m<module>\u001b[0;34m\u001b[0m\n\u001b[1;32m      7\u001b[0m \u001b[0;32mimport\u001b[0m \u001b[0mjson\u001b[0m\u001b[0;34m\u001b[0m\u001b[0;34m\u001b[0m\u001b[0m\n\u001b[1;32m      8\u001b[0m \u001b[0;32mimport\u001b[0m \u001b[0mrequests\u001b[0m\u001b[0;34m\u001b[0m\u001b[0;34m\u001b[0m\u001b[0m\n\u001b[0;32m----> 9\u001b[0;31m \u001b[0;32mimport\u001b[0m \u001b[0mconfig\u001b[0m\u001b[0;34m\u001b[0m\u001b[0;34m\u001b[0m\u001b[0m\n\u001b[0m\u001b[1;32m     10\u001b[0m \u001b[0;32mimport\u001b[0m \u001b[0mgmaps\u001b[0m\u001b[0;34m\u001b[0m\u001b[0;34m\u001b[0m\u001b[0m\n\u001b[1;32m     11\u001b[0m \u001b[0;32mimport\u001b[0m \u001b[0mre\u001b[0m\u001b[0;34m\u001b[0m\u001b[0;34m\u001b[0m\u001b[0m\n",
      "\u001b[0;31mModuleNotFoundError\u001b[0m: No module named 'config'"
     ]
    }
   ],
   "source": [
    "# import dependencies \n",
    "import os\n",
    "import pandas as pd\n",
    "# import matplotlib.pyplots as plt\n",
    "import time\n",
    "import csv\n",
    "import json\n",
    "import requests\n",
    "import config\n",
    "import gmaps\n",
    "import re \n",
    "import twitter\n",
    "import tweepy \n",
    "from tweepy import OAuthHandler \n",
    "from textblob import TextBlob \n",
    "\n",
    "# Access maps with unique API key\n",
    "# gmaps.configure(api_key=gkey)\n",
    "\n",
    "# url for API\n",
    "\n",
    "url = 'https://api.twitter.com/1.1/search/tweets.json'\n",
    "\n",
    "# Store a the twitter handle mentions we will use\n",
    "\n",
    "handle = '@realDonaldTrump'\n",
    "\n",
    "#test our API\n",
    "\n",
    "twitter_api = twitter.api(consumer_key={api_key},\n",
    "                       consumer_secret= {api_secret_key},\n",
    "                       access_token_key={access_token},\n",
    "                       access_token_secret={access_token_secret})\n",
    "\n",
    "# test authentication\n",
    "print(twitter_api.VerifyCredentials())\n",
    "\n",
    "# Make the API request\n",
    "# Filter the request for  \"geo_enabled\": true, language to be only english (lang=en), restrict by region = United Sates\n",
    "# Reference the url to request the api data, but not going over the \n",
    "# request limit per second (max_number_of_requests = 180 per 15 min)\n",
    "# https://towardsdatascience.com/creating-the-twitter-sentiment-analysis-program-in-python-with-naive-bayes-classification-672e5589a7ed\n",
    "\n",
    "# convert to JSON object \n",
    "\n",
    "# Create a dictionary with the data we need:\n",
    "\n",
    "# Date(created_at), Location (geocode), , Tweet (text), (user_mentions),  (hashtags),\n",
    "#(symbols), user id (\"user\": id, id_string)\n",
    "# followers volume (followers_count), friends count (friends_count), (favourites_count)\n",
    "# (retweet_count), (retweeted), (possibly_sensitive), \n",
    "    \n",
    "        \n",
    "# print the request to get an idea of the set\n",
    "\n",
    "# Reference the url for the sentiment analysis code 'https://www.geeksforgeeks.org/twitter-sentiment-analysis-using-python/''\n",
    "\n"
   ]
  },
  {
   "cell_type": "code",
   "execution_count": null,
   "metadata": {},
   "outputs": [],
   "source": [
    "# HYPOTHESYS\n",
    "# We expect that mentions of Trumps will have 50/50 positive and negative\n",
    "# We expect more positive tweets volume from republican states\n",
    "# We expect Trump's tweets to be majority negative\n",
    "# What are the main keywords Trump uses and what are the sentiment about those subjects"
   ]
  },
  {
   "cell_type": "code",
   "execution_count": null,
   "metadata": {},
   "outputs": [],
   "source": [
    "# DATA CLEANING"
   ]
  },
  {
   "cell_type": "code",
   "execution_count": null,
   "metadata": {},
   "outputs": [],
   "source": [
    "# VISUALIZATION REQUEIREMENTS - 6-8\n",
    "\n",
    "# What is the distribution of sentiment (positive/negative/neutral) per mention of handle?\n",
    "# Piechart/bar chart per handle mention\n",
    "\n",
    "# How many (positive/negative/neutral) retweets?\n",
    "\n",
    "# Distribution of sentiment by state and comparison to state being democrat/republican\n",
    "# Gmaps with pins\n",
    "\n",
    "\n",
    "# Scatter plot - size of bubles is number of followers\n",
    "\n",
    "# Most commom used words by Trump - top keywords\n",
    "# Use of exclamation points\n",
    "# Use of Caps lock?\n",
    "# Emoji symbols he uses\n",
    "# Sentiment analysis of Trump Tweets\n",
    "# Sentiment analysis of his tweets for top 5 keyqords he uses (sort and select top 5 based on total count)\n",
    "\n",
    "\n",
    "# Scatter plot of Trumps tweets colored by sentiment\n",
    "\n",
    "# Save png versions of our visuals\n"
   ]
  },
  {
   "cell_type": "code",
   "execution_count": null,
   "metadata": {},
   "outputs": [],
   "source": [
    "# OBSERVATIONS/TRENDS\n",
    "\n",
    "# Implications - can we predict if he will be elected or not"
   ]
  }
 ],
 "metadata": {
  "kernelspec": {
   "display_name": "Python 3",
   "language": "python",
   "name": "python3"
  },
  "language_info": {
   "codemirror_mode": {
    "name": "ipython",
    "version": 3
   },
   "file_extension": ".py",
   "mimetype": "text/x-python",
   "name": "python",
   "nbconvert_exporter": "python",
   "pygments_lexer": "ipython3",
   "version": "3.7.3"
  }
 },
 "nbformat": 4,
 "nbformat_minor": 2
}
